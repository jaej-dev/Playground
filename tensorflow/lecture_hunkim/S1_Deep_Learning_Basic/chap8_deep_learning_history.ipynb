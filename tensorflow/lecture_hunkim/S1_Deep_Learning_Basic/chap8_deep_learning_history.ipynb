{
 "cells": [
  {
   "cell_type": "markdown",
   "metadata": {},
   "source": [
    "# Chap 8. Deep learning history\n",
    "\n",
    "## 1. Ultimate dream: thinking machine\n",
    "\n",
    "- 생물학적 뉴런의 구조\n",
    "  - 어떤 input X, 그리고 input의 길이 W에따 입력 신호가 결정되며(X*W), nucleus에서 합(∑WiXi + b)이 일어난다. 이후 일정 evel에 도달하면 Activation이 일어나고 Axon terminals를 통해 Ouput 신호를 내보낸다.\n",
    "\n",
    "<img src=\"https://cdn-images-1.medium.com/max/1600/0*v4f4-nMoRMNrtUZG.png\" alt=\"\" title=\"\" />\n",
    "\n",
    "- 생물학적 뉴런의 구조를 수학적으로 모델링을 하면 아래와 같다.\n",
    "\n",
    "<img src=\"http://cs231n.github.io/assets/nn1/neuron_model.jpeg\" alt=\"\" title=\"\" />\n",
    "\n",
    "\n",
    "## 2. History\n",
    "- Frank Rosenblatt, ~ 1957 : Preceptron (Hardware implementations)\n",
    "\n",
    "<img src=\"https://upload.wikimedia.org/wikipedia/en/thumb/5/52/Mark_I_perceptron.jpeg/220px-Mark_I_perceptron.jpeg\" alt=\"\" title=\"\" />\n",
    "\n",
    "- Widrow and Hoff, ~1960 : Adaline/Madaline (Hardware implementations)\n",
    "\n",
    "<img src=\"https://i.ytimg.com/vi/skfNlwEbqck/maxresdefault.jpg\" alt=\"\" title=\"\" />\n",
    "\n",
    "- Marvin Minky (founder of the MIT AI Lab), , ~1969\n",
    "  - AND/OR 연산은 가능했으나 XOR 연산의 문제점 발견\n",
    "  - MLP(Multilayer perceptrons)로 해결 가능성을 발견 그러나 각 perceptros의 w,b는 학습시킬수 없다고 주장\n",
    "<img src=\"https://jantoniomora.files.wordpress.com/2015/10/051010_0921_multilayerp1.png\" alt=\"\" title=\"\" />\n",
    "\n",
    "\n",
    "\n",
    "- PaulW erbos, 1974, 1982, Hinton 1986 : Backprogation\n",
    "  - Paul Werbos에 의해 Error를 구하여 backward 방향으로 진행하며 w, b를 조절하겠다는 아이디어\n",
    "  - Hinton에 의해 Rediscovery 됨\n",
    "  - 그러나 backward 방향으로 hidden layer가 많아질 경우 w, b를 조절하겠다는 의미가 점점 약해져서 Error가 전달되지 않고 학습의 의미가 없어지는 문제점이 발견됨\n",
    "<img src=\"https://devblogs.nvidia.com/wp-content/uploads/2015/08/training_inference1.png\" alt=\"\" title=\"\" />\n",
    "\n",
    "- Lecun, 1980 : Convolutional Neural Networks\n",
    "  - 그림을 한번에 읽지 않고, 이미지를 부분적으로 잘라서 나중에 합치는 알고리즘 발견\n",
    "  \n",
    "<img src=\"https://www.researchgate.net/profile/Mohamed_Elawady2/publication/285458843/figure/fig3/AS:338514249043969@1457719494055/Architecture-of-LeNet-5-Convolutional-Neural-Networks-for-digit-recognition-from.jpg\" alt=\"\" title=\"\" /> \n",
    "  \n",
    "- Hinton(CIFAR), 2006, Bengio, 2007 : Breakthrough\n",
    "  - Neural networks에서 초기값의 문제점 발견\n",
    "  - 많은 layer 구축하여 복잡한 문제점을 해결할수 있다는 것을 증명\n",
    "  - Deep learning으로 rebranding\n",
    "\n",
    "\n",
    "- Imagenet Classification (2010 - 2016)\n",
    "  - Deep learning 기반의 neural network은 3% 대의 에러를 가진 수준으로 발전 하고 있다.\n",
    "\n",
    "<img src=\"http://a2apple.com/beta/wp-content/themes/a2a/uploads/1_q-QBvvvz-uOxYq0OR2Zibg90673.jpeg\" alt=\"\" title=\"\" />\n",
    "\n",
    "\n",
    "- 2018 Now\n",
    "  - Alphago\n",
    "  - Youtube의 자동 자막\n",
    "  - Google 검색 및 맞춤 광고\n",
    "  - Netflix의 추천 시스템\n",
    "  - Amazon의 맞춤 광고\n",
    "  - ...\n",
    "  "
   ]
  },
  {
   "cell_type": "code",
   "execution_count": null,
   "metadata": {},
   "outputs": [],
   "source": []
  }
 ],
 "metadata": {
  "kernelspec": {
   "display_name": "Python 3",
   "language": "python",
   "name": "python3"
  },
  "language_info": {
   "codemirror_mode": {
    "name": "ipython",
    "version": 3
   },
   "file_extension": ".py",
   "mimetype": "text/x-python",
   "name": "python",
   "nbconvert_exporter": "python",
   "pygments_lexer": "ipython3",
   "version": "3.4.3"
  }
 },
 "nbformat": 4,
 "nbformat_minor": 2
}
