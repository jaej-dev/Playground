{
 "cells": [
  {
   "cell_type": "markdown",
   "metadata": {},
   "source": [
    "# Chap 2. Linear Regression"
   ]
  },
  {
   "cell_type": "markdown",
   "metadata": {},
   "source": [
    "## 1. Linear regression\n",
    "- 통계학에서 종속 변수 y와 한 개 이상의 독립 변수 (또는 설명 변수) X와의 선형 상관 관계를 모델링하는 회귀분석 기법이다.\n",
    "- 선형 회귀는 선형 예측 함수를 사용해 회귀식을 모델링하며, 알려지지 않은 파라미터는 데이터로부터 추정한다. 이렇게 만들어진 회귀식을 선형 모델이라고 한다.\n",
    "- Hypothesis는 일차 방정식의 그래프로 표현된다.\n",
    "\n",
    "<img src=\"https://upload.wikimedia.org/wikipedia/commons/thumb/5/53/Linear_least_squares_example2.png/220px-Linear_least_squares_example2.png\" alt=\"\" title=\"\" />\n",
    "\n",
    "\n",
    "## 2. Hypothesis\n",
    "\\begin{equation*}\n",
    "H({x})=W({x}) + b\n",
    "\\end{equation*}\n",
    "- H = hypothesis, 가설, 예측\n",
    "- W = weight, 기울기\n",
    "- b = bias, 절편\n",
    "- x = 입력 데이터\n",
    "\n",
    "\n",
    "## 3. Cost function\n",
    "\\begin{equation*}\n",
    "Cost(W, b)=\\frac{1}{m}\\sum_{i=1}^{m}(H({x})^i - y^i)^2\n",
    "\\end{equation*}\n",
    "- cost는 W와 b의 함수로서 H(x)와 y의 차의 제곱에 평균한 값이다. 즉 W와 b에 따라 cost가 바뀐다.\n",
    "- machine learning은 cost를 minimize 하기위한 W, b를 찾는데 목적이 있다.\n",
    "- cost 함수는 구현 방법에 상관없이 맞는 예측일 때 적은 비용을, 틀린 예측일 때 많은 비용을 부과하는 속성을 가져야 한다. 미분을 통해 비용이 적은 방향으로 진행할 수 있다. (Chapter 3에서 다를 것이다.)\n",
    "- H(x)와 출력 y의 차를 제곱하는 목적은 양의(음수의 제곱은 양수) 값을 갖도록 하는데 목적이 있다.\n",
    "- H(x) = 예측값\n",
    "- y = 실측된 결과값\n",
    "- m = 데이터의 갯수\n",
    "\n",
    "\n",
    "## 4. Lab1: Linear regression"
   ]
  },
  {
   "cell_type": "code",
   "execution_count": 55,
   "metadata": {},
   "outputs": [
    {
     "name": "stdout",
     "output_type": "stream",
     "text": [
      "i: 0\tW: [1.4721154]\tb: [-1.675474]\tcost: 11.292932\n",
      "i: 100\tW: [1.268302]\tb: [0.31115928]\tcost: 0.41570657\n",
      "i: 200\tW: [1.0804249]\tb: [0.86354095]\tcost: 0.037352555\n",
      "i: 300\tW: [1.0241078]\tb: [1.0291201]\tcost: 0.0033562337\n",
      "i: 400\tW: [1.0072263]\tb: [1.0787536]\tcost: 0.00030155777\n",
      "i: 500\tW: [1.0021663]\tb: [1.093631]\tcost: 2.7096963e-05\n",
      "i: 600\tW: [1.0006493]\tb: [1.0980908]\tcost: 2.434575e-06\n",
      "i: 700\tW: [1.0001945]\tb: [1.0994278]\tcost: 2.1871529e-07\n",
      "i: 800\tW: [1.0000583]\tb: [1.0998285]\tcost: 1.9573235e-08\n",
      "i: 900\tW: [1.0000175]\tb: [1.0999483]\tcost: 1.7876687e-09\n",
      "i: 1000\tW: [1.0000051]\tb: [1.0999848]\tcost: 1.5052137e-10\n"
     ]
    }
   ],
   "source": [
    "import tensorflow as tf\n",
    "import matplotlib.pyplot as plt\n",
    "import numpy as np\n",
    "\n",
    "# Step1: Build graph using TF operation\n",
    "# Training data\n",
    "x_train = [1, 2, 3, 4]\n",
    "y_train = [2.1, 3.1, 4.1, 5.1]\n",
    "\n",
    "# Model parameters\n",
    "W = tf.Variable(tf.random_normal([1]), name='weight')\n",
    "b = tf.Variable(tf.random_normal([1]), name='bias')\n",
    "\n",
    "# Model input and output\n",
    "x = tf.placeholder(tf.float32)\n",
    "y = tf.placeholder(tf.float32)\n",
    "\n",
    "# Hypothesis model\n",
    "hypothesis = (W * x) + b\n",
    "\n",
    "# cost/loss function\n",
    "cost = tf.reduce_sum(tf.square(hypothesis - y))  # sum of the squares\n",
    "                                                                                \n",
    "# optimizer\n",
    "learning_rate = 0.01\n",
    "optimizer = tf.train.GradientDescentOptimizer(learning_rate)\n",
    "train = optimizer.minimize(cost)\n",
    "\n",
    "# Step2: Feed data and run graph\n",
    "# Step3: Update variables in graph and return values\n",
    "# training loop\n",
    "init = tf.global_variables_initializer()    # over rev 1.0 api\n",
    "#init = tf.initialize_all_variables() # under rev 1.0 api\n",
    "sess = tf.Session()\n",
    "sess.run(init)  # reset values to wrong\n",
    "for i in range(1001):\n",
    "    sess.run(train, {x: x_train, y: y_train})\n",
    "    \n",
    "    if i % 100 == 0:\n",
    "        # evaluate training accuracy\n",
    "        curr_W, curr_b, curr_cost = sess.run([W, b, cost], {x: x_train, y: y_train})\n",
    "        print(\"i: %s\\tW: %s\\tb: %s\\tcost: %s\" % (i, curr_W, curr_b, curr_cost))\n",
    "\n",
    "sess.close()"
   ]
  },
  {
   "cell_type": "markdown",
   "metadata": {},
   "source": [
    "- 입력 x와 출력 y의 데이터를 살펴보면 기울기 1, y절편 0.1의 그래프라는 것을 쉽게 알수 있다.\n",
    "- 이러한 데이터를 기반으로 machine learing을 1001번 학습할때, 약 500회 때부터 cost가 0에 가까와 지는 것을 확인할수 있다. 즉, W와 b의 값을 잘 찾아가고 있다는 것을 확인할수 있다.\n",
    "- 최종적으로 학습이 종료되었을때 W 는 1일때, b 는 1.1일때 cost가 가장 낮고 예측 모델이 잘 동작 되었다는 것을 확인할수 있다."
   ]
  }
 ],
 "metadata": {
  "kernelspec": {
   "display_name": "Python 3",
   "language": "python",
   "name": "python3"
  },
  "language_info": {
   "codemirror_mode": {
    "name": "ipython",
    "version": 3
   },
   "file_extension": ".py",
   "mimetype": "text/x-python",
   "name": "python",
   "nbconvert_exporter": "python",
   "pygments_lexer": "ipython3",
   "version": "3.4.3"
  }
 },
 "nbformat": 4,
 "nbformat_minor": 2
}
