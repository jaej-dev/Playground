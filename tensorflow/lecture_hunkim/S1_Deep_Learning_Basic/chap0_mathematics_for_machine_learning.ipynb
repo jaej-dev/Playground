{
 "cells": [
  {
   "cell_type": "markdown",
   "metadata": {},
   "source": [
    "# Chap 0. Mathematics for machine learning"
   ]
  },
  {
   "cell_type": "markdown",
   "metadata": {},
   "source": [
    "## 1. Matrix"
   ]
  },
  {
   "cell_type": "markdown",
   "metadata": {},
   "source": [
    "## 2. Derivative\n",
    "### 2.1. Basic Derivative\n",
    "\n",
    "\\begin{equation*}\n",
    "\\frac{d}{dx}f(x) = \\lim_{Δx \\to 0} \\frac{f(x + Δx) - f(x)}{Δx}\n",
    "\\end{equation*}\n",
    "- \"f를 x로 미분한다\" 라고 표현한다.\n",
    "\n",
    "- delta x를 0에 가까운 값으로 보낼때 f는 순간적으로 얼마나 변화 하는가를 의미함. 이말은 곧 기울기를 뜻한다.\n",
    "\n",
    "- 위 식에서 lim (Δx -> 0)을 0.01 이라는 가정하고 아래의 각 함수에 대입해보면 (즉, 미분을 해보면)\n",
    "\n",
    "### 2.1.1. case 1: f(x) = 3 일 경우 \n",
    "- 이 함수는 x에 어떤 값이 들어가도 3이 된다는 의미의 상수 함수를 의미 한다.\n",
    "- 그러므로 아래식 f(x+0.01)에서 x에 0.01을 더하던 1000을 더하던 f는 3이 된다는 의미이다.\n",
    "- 결론적으로 상수 함수를 미분하면 0이 된다.\n",
    "  \n",
    "\\begin{equation*}\n",
    "\\frac{df}{dx} = \\frac{f(x+0.01) - f(x)}{0.01} = \\frac{3 - 3}{0.01} = \\frac{0}{0.01} = 0\n",
    "\\end{equation*}\n",
    "\n",
    "### 2.1.2. case 2: f(x) = x 일 경우\n",
    "- 이 함수는 x가 1이면 f는 1, x가 2면 f는 2가 된다는 함수를 의미한다. 즉 x값을 그대로 돌려준다.\n",
    "- 그러므로 아래식  f(x+0.01)에서 f는 x+0.01을 그대로 돌려준다.\n",
    "- 결론적으로 f(x) = x를 미분하면 1이 된다.\n",
    "\n",
    "\\begin{equation*}\n",
    "\\frac{df}{dx} = \\frac{f(x+0.01) - f(x)}{0.01} = \\frac{x + 0.01 - x}{0.01} = \\frac{0.01}{0.01} = 1\n",
    "\\end{equation*}\n",
    "\n",
    "### 2.1.3. case 3: f(x) = 2x 일 경우\n",
    "- 이 함수는 x가 1이면 f는 2, x가 2면 f는 4가 된다는 함수를 의미한다. 즉 x값을 두배로 돌려준다.\n",
    "- 그러므로 아래식  f(x+0.01)에서 f는 2(x+0.01)을 돌려준다.\n",
    "- 결론적으로 f(x) = x를 미분하면 2가 된다.\n",
    "\n",
    "\\begin{equation*}\n",
    "\\frac{df}{dx} = \\frac{f(x+0.01) - f(x)}{0.01} = \\frac{2(x + 0.01) - 2(x)}{0.01} = \\frac{2x + 2(0.01) - 2x}{0.01} = \\frac{2(0.01)}{0.01} = 2\n",
    "\\end{equation*}\n",
    "\n",
    "### 2.1.4. cast 4: f(x) = x + 3 일 경우\n",
    "- 이 함수는 x가 f(x) = x 함수와 f(x) = 3을 합한 결과와 동일하다\n",
    "- 이에 따라 f(x) = 3을 미분하면 0이(case 1) 되고, f(x) = x 를 미분하면 1이(case 3) 된다.\n",
    "- 결론적으로 f(x) = x + 3을 미분하면 1이 된다."
   ]
  },
  {
   "cell_type": "markdown",
   "metadata": {},
   "source": [
    "## 2.2. Partial derivative: consider other variables as constants\n",
    "- 편미분은 함수 f가 복수개의 입력을 가질때 관심있는 입력만 미분하고, 나뭐지는 상수 취급하겠다는 의미이다.\n",
    "\n",
    "\n",
    "### 2.2.1.  case 1: f(x, y) = xy의 경우 \n",
    "- x로 편미분 하면, 위 2.1.2.의 case2와 같이 되고 미분 결과는 1이 된다. y는 상수 취급하므로 최종적으로 편미분한 결과는 y가 된다.\n",
    "\n",
    "\\begin{equation*}\n",
    "f(x,y) = xy, \\\\\n",
    "\\frac{\\partial f}{\\partial_ x} \\text{(constant y)} = 1 * y = y\n",
    "\\end{equation*}\n",
    "\n",
    "- y로 편미분 하면, 위 2.1.2.의 case2와 같이 되고 미분 결과는 1이 된다. x는 상수 취급하므로 최종적으로 편미분한 결과는 x가 된다.\n",
    "\n",
    "\\begin{equation*}\n",
    "f(x,y) = xy,\\\\\n",
    "\\frac{\\partial f}{\\partial_ y} \\text{(constant x)} = 1 * x = x\n",
    "\\end{equation*}\n",
    "\n",
    "\n",
    "### 2.2.2. case 2: f(x, y) = x + y의 경우\n",
    "- x로 편미분 하면, y를 상수 취급하므 위 2.1.4.의 case4에서 처럼 f(x)=x를 미분한 결과와 f(x) = constant(y)의 미분한 결과를 더한것과 같다.\n",
    "- f(x) = x를 미분하면 1이 되고,  상수를 미분하면 0이 되므로, 결론적으로 편미분한 결과는 1이 된다.\n",
    "\n",
    "\\begin{equation*}\n",
    "f(x,y) = \\frac{\\partial f}{\\partial_ x} + \\text{(constant y)} = 1 + 0 = 1\n",
    "\\end{equation*}\n",
    "\n",
    "- y로 편미분 하면, x를 상수 취급하므 위 2.1.4.의 case4에서 처럼 f(y)=y를 미분한 결과와 f(y) = constant(x)의 미분한 결과를 더한것과 같다.\n",
    "- f(y) = y를 미분하면 1이 되고,  상수를 미분하면 0이 되므로, 결론적으로 편미분한 결과는 1이 된다.\n",
    "\n",
    "\\begin{equation*}\n",
    "f(x,y) = \\frac{\\partial f}{\\partial_ y} + \\text{(constant x)} = 1 + 0 = 1\n",
    "\\end{equation*}"
   ]
  },
  {
   "cell_type": "markdown",
   "metadata": {},
   "source": [
    "## 2.3. Chain rule\n",
    "\n",
    "\\begin{equation*}\n",
    "f(g(x)) = \\frac{\\partial f}{\\partial_ x} = \\frac{\\partial f}{\\partial_ g} \\text{ * } \\frac{\\partial g}{\\partial_ x}\n",
    "\\end{equation*}\n",
    "\n",
    "- 복합 함수 f(g(x))가 있을때 x가 f에 미치는 영향을 이해하려면 위 식과 같이 f를 g로 미분한값과 g를 x로 미분한 값을 곱하여 처리한다. partial g는 서로 약분 관계에 있다. 이와 같은 식을 chain rule이라고 한다.\n",
    "\n",
    "- 예를 들어 logitic classfication에서 logits = WX + b, Hypothesis = sigmoid(logits) 라는 함수를 사용한다. 여기서 Hypothesis를 미분을 해야 기울기를 알고 이 기울기 값들중에서 최소값을 찾게 된다. 이러한 경우와 같이 복합 함수를 미분해야할 때 |chain rule을 사용한다."
   ]
  }
 ],
 "metadata": {
  "kernelspec": {
   "display_name": "Python 3",
   "language": "python",
   "name": "python3"
  },
  "language_info": {
   "codemirror_mode": {
    "name": "ipython",
    "version": 3
   },
   "file_extension": ".py",
   "mimetype": "text/x-python",
   "name": "python",
   "nbconvert_exporter": "python",
   "pygments_lexer": "ipython3",
   "version": "3.4.3"
  }
 },
 "nbformat": 4,
 "nbformat_minor": 2
}
