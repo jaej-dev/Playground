{
 "cells": [
  {
   "cell_type": "markdown",
   "metadata": {},
   "source": [
    "# Chap 1. Machine Learning Introduction"
   ]
  },
  {
   "cell_type": "markdown",
   "metadata": {},
   "source": [
    "## 1. Machine learning basics\n",
    "- Limitations of explicit programming\n",
    "  - Spam filter: many rules\n",
    "  - Automatic driving: too many rules\n",
    "\n",
    "- \"Field of study that gives computers the ability to learn without being explicitly programed\" Arther Samuel (1959)\n",
    "\n",
    "\n",
    "### 1.1. Supervied learning\n",
    "- learning with labeled examples - traning set\n",
    "<img src=\"http://cs231n.github.io/assets/trainset.jpg\" alt=\"\" title=\"\" />\n",
    "\n",
    "- Most common problem type in ML\n",
    "  - Image labeling: learning from tagged images\n",
    "  - Email spam filter: learning from labeled (spam or ham) email\n",
    "\n",
    "- Predicting exam score: learning from previous exam score and time spent\n",
    "\n",
    "- Types of supervised learning\n",
    "  - Predicting final exam score based on time spent\n",
    "    - regression\n",
    "  - Pass/non-pass based on time spent\n",
    "    - binary classification\n",
    "  - Letter grade (A, B, C, E and F) based on time spent\n",
    "    - multi-label classification\n",
    "\n",
    "### 1.2. Unsupervised learing\n",
    "- Un-labled data\n",
    "- Google news grouping\n",
    "- Word clustering"
   ]
  },
  {
   "cell_type": "markdown",
   "metadata": {},
   "source": [
    "## 2. TensorFlow Basics\n",
    "### 2.1. TensorFlow\n",
    "- TensorFlow™ is an open source software library for numerical computation using data flow graphs.\n",
    "- Support Python\n",
    "\n",
    "\n",
    "### 2.2. What is a Data Flow Graph?\n",
    "<img src=\"https://www.tensorflow.org/images/tensors_flowing.gif\" alt=\"tensorflow graph\" title=\"Tensorflow graph\" />\n",
    "- Nodes in the graph represent mathematical operations\n",
    "- Edges represent the multidimensional data arrays (tensors) communicated between them\n",
    "- 노드(도형)에 연산을 담고 에지(선)에 데이터를 담는다\n",
    "\n",
    "\n",
    "### 2.3. Installing Tensorflow\n",
    "- [Ubuntu](https://github.com/jaej-dev/Playground/blob/master/study_tensorflow/how_to_set_env/ubuntu18/tf_env_ubuntu18.txt)\n",
    "  - GPU 버전 설치시 이슈가 다양하므로 ubuntu 16.04 버전을 추천함\n",
    "- [Mac](https://www.tensorflow.org/install/install_mac)\n",
    "  - Mac에서 개발환경을 설치하는 것을 추천함\n",
    "  \n",
    "  \n",
    "### 2.4. Lab1. Hello TensorFlow"
   ]
  },
  {
   "cell_type": "code",
   "execution_count": 7,
   "metadata": {},
   "outputs": [
    {
     "name": "stdout",
     "output_type": "stream",
     "text": [
      "b'Hello, Tensorflow!'\n"
     ]
    }
   ],
   "source": [
    "import tensorflow as tf\n",
    "\n",
    "# Step1: Building graph\n",
    "hello = tf.constant(\"Hello, Tensorflow!\")\n",
    "\n",
    "with tf.Session() as sess:\n",
    "                             \n",
    "    # Step2: feed data adn run graph\n",
    "    # Step3: Update variables in the graph and return values\n",
    "    print(sess.run(hello))"
   ]
  },
  {
   "cell_type": "markdown",
   "metadata": {},
   "source": [
    "- Computation graph속에 hello라는 노드를 생성하여 상수(문자열)를 담았다\n",
    "- with 구문은 생성된 세션을 sess.close()로 닫지 않기 위함\n",
    "\n",
    "\n",
    "### 2.5. TensorFlow mechanics\n",
    "<img src=\"https://pikanpie.files.wordpress.com/2018/01/screen-shot-2018-01-13-at-9-41-59-pm.png\" alt=\"\" title=\"\" />\n",
    "- 첫째 graph를 정의 한다. 이때 노드를 placeholder로 만들수 있다\n",
    "- 둘째 session을 생성하여 graph를 실행한다.\n",
    "- 셋째 입력 변수를 업데이트 하거나, 출력을 리턴 한다\n",
    "\n",
    "### 2.6. Placeholder\n",
    "- 머신러닝에 필요한 데이터를 담는 그릇이다\n",
    "- Graph를 정의할때 정의하며, session을 생성하여 graph를 실행할때 feed_dict를 통하여 데이터를 전달하게된다\n",
    "\n",
    "\n",
    "### 2.7. Ranks, Shapes, Types\n",
    "<img src=\"https://machinelearningblogs.com/wp-content/uploads/2017/06/Screen-Shot-2017-06-26-at-4.00.33-PM.png\" alt=\"\" title=\"\" />\n",
    "- Rank란 array의 차원수를 의미한다 (0차원부터 Scalar, Vector, Matrix라 부르며 3차원 이상부터 3-Tensor, n-Tensor라 부른다)\n",
    "- Shape란 차원과 엘리먼트의 수를 표현한다. 예를들어 [D0, D1]에서 D0는 차원의 수, D1은 엘리먼트의 수를 나타낸다\n",
    "- Type은 데이터의 타입을 의미한다"
   ]
  }
 ],
 "metadata": {
  "kernelspec": {
   "display_name": "Python 3",
   "language": "python",
   "name": "python3"
  },
  "language_info": {
   "codemirror_mode": {
    "name": "ipython",
    "version": 3
   },
   "file_extension": ".py",
   "mimetype": "text/x-python",
   "name": "python",
   "nbconvert_exporter": "python",
   "pygments_lexer": "ipython3",
   "version": "3.4.3"
  }
 },
 "nbformat": 4,
 "nbformat_minor": 2
}
