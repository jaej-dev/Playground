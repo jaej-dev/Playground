{
 "cells": [
  {
   "cell_type": "markdown",
   "metadata": {},
   "source": [
    "# Chap 3. How to minimize cost\n",
    "## 1. Cost function graph (convex function)"
   ]
  },
  {
   "cell_type": "code",
   "execution_count": 2,
   "metadata": {},
   "outputs": [
    {
     "data": {
      "image/png": "[encoded data removed]",
      "text/plain": [
       "<Figure size 432x288 with 1 Axes>"
      ]
     },
     "metadata": {},
     "output_type": "display_data"
    }
   ],
   "source": [
    "import tensorflow as tf\n",
    "import matplotlib.pyplot as plt\n",
    "import numpy as np\n",
    "\n",
    "# Model parameters\n",
    "W = tf.placeholder(tf.float32)\n",
    "\n",
    "# Model input and output\n",
    "x = [1, 2, 3]\n",
    "y = [1, 2, 3]\n",
    "\n",
    "# Our hypothesis\n",
    "hypothesis = x * W\n",
    "\n",
    "# cost/loss function\n",
    "cost = tf.reduce_sum(tf.square(hypothesis - y))  # sum of the squares\n",
    "\n",
    "# launch the graph in a session\n",
    "init = tf.global_variables_initializer()    # over rev 1.0 api\n",
    "sess = tf.Session()\n",
    "sess.run(init)  # reset values to wrong\n",
    "\n",
    "# Variables for flotting cost function\n",
    "W_val = []\n",
    "cost_val = []\n",
    "\n",
    "for i in range(-30, 50):\n",
    "    feed_W = i * 0.1 # swing -3 ~ 5\n",
    "    curr_cost, curr_W = sess.run([cost, W], feed_dict={W: feed_W})\n",
    "    W_val.append(curr_W)\n",
    "    cost_val.append(curr_cost)\n",
    "\n",
    "# Show the cost function\n",
    "plt.plot(W_val, cost_val)\n",
    "plt.show()"
   ]
  },
  {
   "cell_type": "markdown",
   "metadata": {},
   "source": [
    "\\begin{equation*}\n",
    "cost(W)=\\frac{1}{m}\\sum_{i=1}^{m}(H({x})^i - y^i)^2\n",
    "\\end{equation*}\n",
    "- 위 그래프는 x 축은 W, y 축은 cost 값이며, W가 1일때 cost가 0으로 최소화 되고 있다.\n",
    "- Machine learning은 위와 같은 convex function 그래프를 만들어야하고, 최소화를 시키는 W(weight), b(bias) 값을 찾는데 목적이 있다.\n",
    "\n",
    "## 2. Gradient Descent Algorithm (GDA)\n",
    "- Minimize cost function\n",
    "- Gradient descent is used many minimization problems\n",
    "- For a given cost function, cost(W, b), it will find W, b to minimize cost\n",
    "- It can be applied to more general function:\n",
    "    - cost (w1, w2, ...)\n",
    "- 어떤 위치에서 시작하더라도 최소 비용에 수렴한다.\n",
    "- 그러나 learning rate가 너무 클 경우 발산할수 있다.\n",
    "\n",
    "## 3. How it works\n",
    "- Start with initial guesses\n",
    "  - Start at 0,0 (or any other value)\n",
    "  - Keeping changing W and b a little bit to try and reduce cost(W, b)\n",
    "- Each time you change the parameters, you select the gradient which reduces cost(W, b) the most possible\n",
    "- Repeat\n",
    "- Do so until you converge to a local minimum\n",
    "- Has an interesting property\n",
    "    - Where you start can determine which minimum you end up\n",
    "- learning rate가 경사도를 구하는 두점의 거리이며, 경사도란 두점의 기울기이다. 즉 미분을 하면된다.\n",
    "\n",
    "\n",
    "## 4. Formal definition\n",
    "\\begin{equation*}\n",
    "cost(W)=\\frac{1}{m}\\sum_{i=1}^{m}(H({x})^i - y^i)^2\n",
    "\\end{equation*}\n",
    "\n",
    "이와같은 cost function을 미분하면 아래와 같은 결과식을 얻게된다.\n",
    "\n",
    "\\begin{equation*}\n",
    "W := W - \\alpha \\frac{1}{m}\\sum_{i=1}^{m}(W({x})^i - y^i)x^i\n",
    "\\end{equation*}\n",
    "- 미분을 한다는것은 결국 W의 다음번 위치를 판단하기위한 위한 것이다. 현재의 위치에서 변화량을 계산하여 현재의 W에서 빼면 다음 W의 위치가 나오게 되는것이다.\n",
    "- 위 convex function 그래프에서 한점이 왼쪽 경사에 있을 때는 기울기(\"\\\")가 음수가 되어서 W의 값이 증가 하게 된다.\n",
    "\\begin{equation*}\n",
    "W := W - \\alpha -\\nabla = W + \\alpha \\nabla\n",
    "\\end{equation*}\n",
    "- 위 convex function 그래프에서 한점이 오른쪽 경사에 있을 때는 기울기(\"/\")가 양수가 되어서 W의 값이 감소하게 된다.\n",
    "\\begin{equation*}\n",
    "W := W - \\alpha x -\\nabla = W - \\alpha \\nabla\n",
    "\\end{equation*}\n",
    "- 결국 어느 위치에 있건 중앙에 있는 cost가 가장 적게 발생하는 최소 비용에 수렴하게 된다.\n",
    "- 알파는 learning rate를 나타내는 상수로서 경사의 두점의 간격을 정의하는 상수로서 개발자가 테스트를 통해 최적의 값을 찾아야 한다. 보통 0.1 ~ 0.001 사이의 값을 사용한다.\n",
    "- 이것을 Tensorflow에서 구현을 하면 아래와 같다."
   ]
  },
  {
   "cell_type": "code",
   "execution_count": 21,
   "metadata": {},
   "outputs": [
    {
     "data": {
      "text/plain": [
       "'\\n# Minimize: Gradient Descent using derivative: W -= learning_rate * derivative\\nlearning_rate = 0.1\\ngradient = tf.reduce_mean((W * X - Y) * X)\\ndescent = W - learning_rate * gradient\\nupdate = W.assign(descent)\\n'"
      ]
     },
     "execution_count": 21,
     "metadata": {},
     "output_type": "execute_result"
    }
   ],
   "source": [
    "'''\n",
    "# Minimize: Gradient Descent using derivative: W -= learning_rate * derivative\n",
    "learning_rate = 0.1\n",
    "gradient = tf.reduce_mean((W * X - Y) * X)\n",
    "descent = W - learning_rate * gradient\n",
    "update = W.assign(descent)\n",
    "'''"
   ]
  },
  {
   "cell_type": "markdown",
   "metadata": {},
   "source": [
    "## 5. Convex function\n",
    "- 아래와 같이 cost function을 설계할 경우 시작점에 따라 W, b의 값이 달라 질수 있다.\n",
    "<img src=\"http://blog.datumbox.com/wp-content/uploads/2013/10/gradient-descent.png\" alt=\"\" title=\"\" />\n",
    "\n",
    "- cost function을 설계할때는 반드시 아래와 같이 convex function의 형태가 되도록 해야 Gradient Descent Algorithm을 정상적으로 적용할수 있다. 만약 그렇지 않다면 global optimum을 찾지 못하고 local optimum을 찾게되어 학습은 실패하게 된다.\n",
    "- convex function의 경우 어떤 점에서 시작을 하더라도 반드시 최소의 기울기를 찾을수 있다.\n",
    "<img src=\"https://qph.fs.quoracdn.net/main-qimg-e682b0c1029917edb4dafa63fb6d6c2c\" alt=\"\" title=\"\" />\n",
    "\n",
    "\n",
    "## 6. Lab1: Gradient Descent Algorithm Implementation"
   ]
  },
  {
   "cell_type": "code",
   "execution_count": 1,
   "metadata": {},
   "outputs": [
    {
     "name": "stdout",
     "output_type": "stream",
     "text": [
      "0 \tcost: 16.763687 \tW: [-0.09426057]\n",
      "1 \tcost: 4.7683377 \tW: [0.41639435]\n",
      "2 \tcost: 1.356327 \tW: [0.68874365]\n",
      "3 \tcost: 0.38579977 \tW: [0.8339966]\n",
      "4 \tcost: 0.1097386 \tW: [0.91146487]\n",
      "5 \tcost: 0.031214515 \tW: [0.95278126]\n",
      "6 \tcost: 0.008878812 \tW: [0.9748167]\n",
      "7 \tcost: 0.002525512 \tW: [0.9865689]\n",
      "8 \tcost: 0.00071836286 \tW: [0.9928368]\n",
      "9 \tcost: 0.00020433844 \tW: [0.9961796]\n",
      "10 \tcost: 5.8125253e-05 \tW: [0.9979624]\n",
      "11 \tcost: 1.6533199e-05 \tW: [0.9989133]\n",
      "12 \tcost: 4.7030344e-06 \tW: [0.9994204]\n",
      "13 \tcost: 1.3379042e-06 \tW: [0.9996909]\n",
      "14 \tcost: 3.8041532e-07 \tW: [0.99983513]\n",
      "15 \tcost: 1.08179776e-07 \tW: [0.9999121]\n",
      "16 \tcost: 3.0789398e-08 \tW: [0.9999531]\n",
      "17 \tcost: 8.773782e-09 \tW: [0.99997497]\n",
      "18 \tcost: 2.4956535e-09 \tW: [0.99998665]\n",
      "19 \tcost: 7.018066e-10 \tW: [0.9999929]\n"
     ]
    }
   ],
   "source": [
    "################################################################################\n",
    "# lab3-2 : Linear Regression Minizing cost\n",
    "#          Gradient Descent Algorithm\n",
    "################################################################################\n",
    "import tensorflow as tf\n",
    "\n",
    "x_data = [1, 2, 3]\n",
    "y_data = [1, 2, 3]\n",
    "\n",
    "# Model parameters\n",
    "W = tf.Variable(tf.random_normal([1]), name='weight')\n",
    "\n",
    "# Model input and output\n",
    "x = tf.placeholder(tf.float32)\n",
    "y = tf.placeholder(tf.float32)\n",
    "\n",
    "# Our hypothesis\n",
    "linear_model = x * W\n",
    "\n",
    "# cost/loss function\n",
    "cost = tf.reduce_sum(tf.square(linear_model - y))  # sum of the squares\n",
    "\n",
    "# Minimize: Gradient Descent using derivative: W -= learning_rate * deriavtive\n",
    "learning_rate = 0.1\n",
    "gradient = tf.reduce_mean((W * x - y) * x)\n",
    "descent = W - learning_rate * gradient\n",
    "update = W.assign(descent)\n",
    "\n",
    "# launch the graph in a session\n",
    "init = tf.global_variables_initializer()    # over rev 1.0 api\n",
    "sess = tf.Session()\n",
    "sess.run(init)  # reset values to wrong\n",
    "\n",
    "for step in range(20):\n",
    "    sess.run(update, feed_dict={x: x_data, y: y_data})\n",
    "    print(step, \"\\tcost:\", sess.run(cost, feed_dict={x: x_data, y: y_data}), \"\\tW:\", sess.run(W))\n",
    "\n",
    "sess.close()"
   ]
  },
  {
   "cell_type": "markdown",
   "metadata": {},
   "source": [
    "- 위 소스코드는 cost 함수가 간단하여 미분식(gradient)을 간단하게 직접 구현하였으나,\n",
    "cost 함수가 복잡하여질경우 구현이 어렵다. 그래서 아래와 같이 Tensorflow에서 구현한 함수를 사용한다."
   ]
  },
  {
   "cell_type": "code",
   "execution_count": 22,
   "metadata": {},
   "outputs": [
    {
     "data": {
      "text/plain": [
       "'\\n# Minimize: Gradient Descent Magic\\noptimizer = tf.train.GradientDescentOptimizer(learning_rate=0.1)\\ntrain = optimizer.minimize(cost)\\n'"
      ]
     },
     "execution_count": 22,
     "metadata": {},
     "output_type": "execute_result"
    }
   ],
   "source": [
    "'''\n",
    "# Minimize: Gradient Descent Magic\n",
    "optimizer = tf.train.GradientDescentOptimizer(learning_rate=0.1)\n",
    "train = optimizer.minimize(cost)\n",
    "'''"
   ]
  },
  {
   "cell_type": "markdown",
   "metadata": {},
   "source": [
    "## 7. Lab2: Gradient Descent Algorithm Test1 (W = 5.0)"
   ]
  },
  {
   "cell_type": "code",
   "execution_count": 18,
   "metadata": {},
   "outputs": [
    {
     "name": "stdout",
     "output_type": "stream",
     "text": [
      "0 \tcost: 74.666664 \tW: 5.0\n",
      "1 \tcost: 0.3318512 \tW: 1.2666664\n",
      "2 \tcost: 0.0014748968 \tW: 1.0177778\n",
      "3 \tcost: 6.555027e-06 \tW: 1.0011852\n",
      "4 \tcost: 2.91322e-08 \tW: 1.000079\n",
      "5 \tcost: 1.2839034e-10 \tW: 1.0000052\n",
      "6 \tcost: 5.163277e-13 \tW: 1.0000004\n",
      "7 \tcost: 0.0 \tW: 1.0\n",
      "8 \tcost: 0.0 \tW: 1.0\n",
      "9 \tcost: 0.0 \tW: 1.0\n"
     ]
    }
   ],
   "source": [
    "import tensorflow as tf\n",
    "\n",
    "x_data = [1, 2, 3]\n",
    "y_data = [1, 2, 3]\n",
    "\n",
    "# Model parameters\n",
    "W = tf.Variable(5.0)\n",
    "\n",
    "# Model input and output\n",
    "X = tf.placeholder(tf.float32)\n",
    "Y = tf.placeholder(tf.float32)\n",
    "\n",
    "# Our hypothesis\n",
    "hypothesis = X * W\n",
    "\n",
    "# cost/loss function\n",
    "cost = tf.reduce_mean(tf.square(hypothesis - Y))  # sum of the squares\n",
    "\n",
    "# Minimize: Gradient Descent Magic\n",
    "optimizer = tf.train.GradientDescentOptimizer(learning_rate=0.1)\n",
    "train = optimizer.minimize(cost)\n",
    "\n",
    "# launch the graph in a session\n",
    "init = tf.global_variables_initializer()    # over rev 1.0 api\n",
    "sess = tf.Session()\n",
    "sess.run(init)  # reset values to wrong\n",
    "\n",
    "for step in range(10):\n",
    "    print(step, \"\\tcost:\", sess.run(cost, feed_dict={X: x_data, Y: y_data}), \"\\tW:\", sess.run(W))\n",
    "    sess.run(train, {X: x_data, Y: y_data})\n",
    "\n",
    "sess.close()"
   ]
  },
  {
   "cell_type": "markdown",
   "metadata": {},
   "source": [
    "- W가 최초 5.0이면 Covex curve 오른쪽 경사면 제일 위쪽에 위치 했는데, 학습을 거듭할수록 W가 1.0에 수렴하는 것을 알수 확인할수 있다."
   ]
  },
  {
   "cell_type": "markdown",
   "metadata": {},
   "source": [
    "## 8. Lab3: Gradient Descent Algorithm Test2 (W = -3.0)"
   ]
  },
  {
   "cell_type": "code",
   "execution_count": 19,
   "metadata": {},
   "outputs": [
    {
     "name": "stdout",
     "output_type": "stream",
     "text": [
      "0 \tcost: 74.666664 \tW: -3.0\n",
      "1 \tcost: 0.3318512 \tW: 0.7333336\n",
      "2 \tcost: 0.0014748932 \tW: 0.98222226\n",
      "3 \tcost: 6.555027e-06 \tW: 0.9988148\n",
      "4 \tcost: 2.91322e-08 \tW: 0.99992096\n",
      "5 \tcost: 1.3195844e-10 \tW: 0.9999947\n",
      "6 \tcost: 5.163277e-13 \tW: 0.99999964\n",
      "7 \tcost: 2.4868996e-14 \tW: 0.99999994\n",
      "8 \tcost: 0.0 \tW: 1.0\n",
      "9 \tcost: 0.0 \tW: 1.0\n"
     ]
    }
   ],
   "source": [
    "import tensorflow as tf\n",
    "\n",
    "x_data = [1, 2, 3]\n",
    "y_data = [1, 2, 3]\n",
    "\n",
    "# Model parameters\n",
    "W = tf.Variable(-3.0)\n",
    "\n",
    "# Model input and output\n",
    "X = tf.placeholder(tf.float32)\n",
    "Y = tf.placeholder(tf.float32)\n",
    "\n",
    "# Our hypothesis\n",
    "hypothesis = X * W\n",
    "\n",
    "# cost/loss function\n",
    "cost = tf.reduce_mean(tf.square(hypothesis - Y))  # sum of the squares\n",
    "\n",
    "# Minimize: Gradient Descent Magic\n",
    "optimizer = tf.train.GradientDescentOptimizer(learning_rate=0.1)\n",
    "train = optimizer.minimize(cost)\n",
    "\n",
    "# launch the graph in a session\n",
    "init = tf.global_variables_initializer()    # over rev 1.0 api\n",
    "sess = tf.Session()\n",
    "sess.run(init)  # reset values to wrong\n",
    "\n",
    "for step in range(10):\n",
    "    print(step, \"\\tcost:\", sess.run(cost, feed_dict={X: x_data, Y: y_data}), \"\\tW:\", sess.run(W))\n",
    "    sess.run(train, {X: x_data, Y: y_data})\n",
    "\n",
    "sess.close()"
   ]
  },
  {
   "cell_type": "markdown",
   "metadata": {},
   "source": [
    "- W가 최초 -3.0이면 Covex curve 왼쪽 경사면 제일 위쪽에 위치 했는데, 학습을 거듭할수록 W가 1.0에 수렴하는 것을 알수 확인할수 있다."
   ]
  },
  {
   "cell_type": "markdown",
   "metadata": {},
   "source": [
    "## 9. Compute gradient and Apply Gradient"
   ]
  },
  {
   "cell_type": "markdown",
   "metadata": {},
   "source": [
    "- 여기서 GradientDescentOptimizer()로 계산된 gradient값과 W(weight)값을 돌려준다\n",
    "  - gvs = optimizer.compute_gradients(cost) \n",
    "\n",
    "- 이곳에서 gradient값을 변경할수 있다. 현재는 그대로 사용\n",
    "  - gvs = gvs \n",
    "\n",
    "- 여기서 수정된 gradient 값을 적용 시켜준다\n",
    "  - apply_gradients = optimizer.apply_gradients(gvs)"
   ]
  }
 ],
 "metadata": {
  "kernelspec": {
   "display_name": "Python 3",
   "language": "python",
   "name": "python3"
  },
  "language_info": {
   "codemirror_mode": {
    "name": "ipython",
    "version": 3
   },
   "file_extension": ".py",
   "mimetype": "text/x-python",
   "name": "python",
   "nbconvert_exporter": "python",
   "pygments_lexer": "ipython3",
   "version": "3.4.3"
  }
 },
 "nbformat": 4,
 "nbformat_minor": 2
}
